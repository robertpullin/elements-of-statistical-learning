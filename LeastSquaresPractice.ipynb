{
 "cells": [
  {
   "cell_type": "markdown",
   "metadata": {},
   "source": [
    "# Linear Regression\n",
    "\n",
    "**Objective**: Use linear regression to predict home prices over the past decade.\n",
    "\n",
    "* Dependent variable: Sales price\n",
    "* Independent variable: Square footage\n",
    "\n",
    "## Least Squares Method\n",
    "\n",
    "Minimize error, or loss, as defined by:\n",
    "$$ L(x) = \\sum_{i=1}^{n}(y_{i}-p_{i})^2 $$"
   ]
  },
  {
   "cell_type": "code",
   "execution_count": 3,
   "metadata": {},
   "outputs": [],
   "source": [
    "# imports\n",
    "import pandas as pd\n",
    "import numpy as np\n",
    "import matplotlib.pyplot as plt"
   ]
  },
  {
   "cell_type": "code",
   "execution_count": 5,
   "metadata": {},
   "outputs": [],
   "source": [
    "# read in our data\n",
    "henrico = pd.read_excel('C:\\\\Users\\\\RP\\\\Documents\\\\Academics\\\\ENMA854-BigDataFundamentals\\\\HousingData\\\\Henrico Sales '\n",
    "                        'Data.xlsx')"
   ]
  },
  {
   "cell_type": "code",
   "execution_count": 7,
   "metadata": {},
   "outputs": [
    {
     "data": {
      "text/html": [
       "<div>\n",
       "<style scoped>\n",
       "    .dataframe tbody tr th:only-of-type {\n",
       "        vertical-align: middle;\n",
       "    }\n",
       "\n",
       "    .dataframe tbody tr th {\n",
       "        vertical-align: top;\n",
       "    }\n",
       "\n",
       "    .dataframe thead th {\n",
       "        text-align: right;\n",
       "    }\n",
       "</style>\n",
       "<table border=\"1\" class=\"dataframe\">\n",
       "  <thead>\n",
       "    <tr style=\"text-align: right;\">\n",
       "      <th></th>\n",
       "      <th>Gpin</th>\n",
       "      <th>Prop_addr</th>\n",
       "      <th>Prop_city</th>\n",
       "      <th>Prop_st</th>\n",
       "      <th>Prop_zip</th>\n",
       "      <th>Subdivision</th>\n",
       "      <th>Sale_date</th>\n",
       "      <th>Sale_price</th>\n",
       "      <th>Deed</th>\n",
       "      <th>Grantee</th>\n",
       "      <th>...</th>\n",
       "      <th>BrickStoneFP</th>\n",
       "      <th>OtherFP</th>\n",
       "      <th>HeatDesc</th>\n",
       "      <th>ACDesc</th>\n",
       "      <th>Parcel_Status</th>\n",
       "      <th>Foundation</th>\n",
       "      <th>BasementArea</th>\n",
       "      <th>LandAsmt</th>\n",
       "      <th>BldgAsmt</th>\n",
       "      <th>TotalAsmt</th>\n",
       "    </tr>\n",
       "  </thead>\n",
       "  <tbody>\n",
       "    <tr>\n",
       "      <th>0</th>\n",
       "      <td>727-757-9917</td>\n",
       "      <td>WILDE LAKE DR</td>\n",
       "      <td>HENRICO</td>\n",
       "      <td>VA</td>\n",
       "      <td>23233</td>\n",
       "      <td>Acreage</td>\n",
       "      <td>1988-12-01</td>\n",
       "      <td>0.0</td>\n",
       "      <td>2168/2372</td>\n",
       "      <td>COUNTY OF HENRICO</td>\n",
       "      <td>...</td>\n",
       "      <td>NaN</td>\n",
       "      <td>NaN</td>\n",
       "      <td>NaN</td>\n",
       "      <td>NaN</td>\n",
       "      <td>A</td>\n",
       "      <td>NaN</td>\n",
       "      <td>NaN</td>\n",
       "      <td>146000.0</td>\n",
       "      <td>0.0</td>\n",
       "      <td>146000.0</td>\n",
       "    </tr>\n",
       "    <tr>\n",
       "      <th>1</th>\n",
       "      <td>728-750-9986</td>\n",
       "      <td>2401 OLD COACH LN</td>\n",
       "      <td>HENRICO</td>\n",
       "      <td>VA</td>\n",
       "      <td>23238-3060</td>\n",
       "      <td>Barclay</td>\n",
       "      <td>2004-09-30</td>\n",
       "      <td>0.0</td>\n",
       "      <td>3746/ 269</td>\n",
       "      <td>RICKETTS RUSSELL L JR &amp; ROBIN W</td>\n",
       "      <td>...</td>\n",
       "      <td>NaN</td>\n",
       "      <td>1.0</td>\n",
       "      <td>Heat Pump</td>\n",
       "      <td>Yes</td>\n",
       "      <td>A</td>\n",
       "      <td>Crawl</td>\n",
       "      <td>NaN</td>\n",
       "      <td>69000.0</td>\n",
       "      <td>215100.0</td>\n",
       "      <td>284100.0</td>\n",
       "    </tr>\n",
       "    <tr>\n",
       "      <th>2</th>\n",
       "      <td>728-750-9986</td>\n",
       "      <td>2401 OLD COACH LN</td>\n",
       "      <td>HENRICO</td>\n",
       "      <td>VA</td>\n",
       "      <td>23238-3060</td>\n",
       "      <td>Barclay</td>\n",
       "      <td>1992-08-01</td>\n",
       "      <td>121000.0</td>\n",
       "      <td>2374/ 965</td>\n",
       "      <td>RICKETTS RUSELL L JR</td>\n",
       "      <td>...</td>\n",
       "      <td>NaN</td>\n",
       "      <td>1.0</td>\n",
       "      <td>Heat Pump</td>\n",
       "      <td>Yes</td>\n",
       "      <td>A</td>\n",
       "      <td>Crawl</td>\n",
       "      <td>NaN</td>\n",
       "      <td>69000.0</td>\n",
       "      <td>215100.0</td>\n",
       "      <td>284100.0</td>\n",
       "    </tr>\n",
       "    <tr>\n",
       "      <th>3</th>\n",
       "      <td>728-750-9986</td>\n",
       "      <td>2401 OLD COACH LN</td>\n",
       "      <td>HENRICO</td>\n",
       "      <td>VA</td>\n",
       "      <td>23238-3060</td>\n",
       "      <td>Barclay</td>\n",
       "      <td>1992-07-01</td>\n",
       "      <td>103500.0</td>\n",
       "      <td>2371/ 270</td>\n",
       "      <td>EAGLE CONSTRUCTION OF VA</td>\n",
       "      <td>...</td>\n",
       "      <td>NaN</td>\n",
       "      <td>1.0</td>\n",
       "      <td>Heat Pump</td>\n",
       "      <td>Yes</td>\n",
       "      <td>A</td>\n",
       "      <td>Crawl</td>\n",
       "      <td>NaN</td>\n",
       "      <td>69000.0</td>\n",
       "      <td>215100.0</td>\n",
       "      <td>284100.0</td>\n",
       "    </tr>\n",
       "    <tr>\n",
       "      <th>4</th>\n",
       "      <td>728-750-9986</td>\n",
       "      <td>2401 OLD COACH LN</td>\n",
       "      <td>HENRICO</td>\n",
       "      <td>VA</td>\n",
       "      <td>23238-3060</td>\n",
       "      <td>Barclay</td>\n",
       "      <td>NaT</td>\n",
       "      <td>0.0</td>\n",
       "      <td>2154/ 720</td>\n",
       "      <td>WILTON E CARLTON &amp; BETTY</td>\n",
       "      <td>...</td>\n",
       "      <td>NaN</td>\n",
       "      <td>1.0</td>\n",
       "      <td>Heat Pump</td>\n",
       "      <td>Yes</td>\n",
       "      <td>A</td>\n",
       "      <td>Crawl</td>\n",
       "      <td>NaN</td>\n",
       "      <td>69000.0</td>\n",
       "      <td>215100.0</td>\n",
       "      <td>284100.0</td>\n",
       "    </tr>\n",
       "  </tbody>\n",
       "</table>\n",
       "<p>5 rows × 32 columns</p>\n",
       "</div>"
      ],
      "text/plain": [
       "           Gpin          Prop_addr Prop_city Prop_st    Prop_zip Subdivision  \\\n",
       "0  727-757-9917      WILDE LAKE DR   HENRICO      VA       23233     Acreage   \n",
       "1  728-750-9986  2401 OLD COACH LN   HENRICO      VA  23238-3060     Barclay   \n",
       "2  728-750-9986  2401 OLD COACH LN   HENRICO      VA  23238-3060     Barclay   \n",
       "3  728-750-9986  2401 OLD COACH LN   HENRICO      VA  23238-3060     Barclay   \n",
       "4  728-750-9986  2401 OLD COACH LN   HENRICO      VA  23238-3060     Barclay   \n",
       "\n",
       "   Sale_date  Sale_price       Deed                          Grantee  ...  \\\n",
       "0 1988-12-01         0.0  2168/2372                COUNTY OF HENRICO  ...   \n",
       "1 2004-09-30         0.0  3746/ 269  RICKETTS RUSSELL L JR & ROBIN W  ...   \n",
       "2 1992-08-01    121000.0  2374/ 965             RICKETTS RUSELL L JR  ...   \n",
       "3 1992-07-01    103500.0  2371/ 270         EAGLE CONSTRUCTION OF VA  ...   \n",
       "4        NaT         0.0  2154/ 720         WILTON E CARLTON & BETTY  ...   \n",
       "\n",
       "  BrickStoneFP OtherFP   HeatDesc  ACDesc Parcel_Status Foundation  \\\n",
       "0          NaN     NaN        NaN     NaN             A        NaN   \n",
       "1          NaN     1.0  Heat Pump     Yes             A      Crawl   \n",
       "2          NaN     1.0  Heat Pump     Yes             A      Crawl   \n",
       "3          NaN     1.0  Heat Pump     Yes             A      Crawl   \n",
       "4          NaN     1.0  Heat Pump     Yes             A      Crawl   \n",
       "\n",
       "   BasementArea  LandAsmt  BldgAsmt  TotalAsmt  \n",
       "0           NaN  146000.0       0.0   146000.0  \n",
       "1           NaN   69000.0  215100.0   284100.0  \n",
       "2           NaN   69000.0  215100.0   284100.0  \n",
       "3           NaN   69000.0  215100.0   284100.0  \n",
       "4           NaN   69000.0  215100.0   284100.0  \n",
       "\n",
       "[5 rows x 32 columns]"
      ]
     },
     "execution_count": 7,
     "metadata": {},
     "output_type": "execute_result"
    }
   ],
   "source": [
    "henrico.head()"
   ]
  },
  {
   "cell_type": "code",
   "execution_count": 8,
   "metadata": {},
   "outputs": [
    {
     "data": {
      "text/plain": [
       "23060         48677\n",
       "23228         39675\n",
       "23231         39216\n",
       "23229         37945\n",
       "23059         31389\n",
       "23223         26765\n",
       "23150         15948\n",
       "23238         15114\n",
       "23227         14642\n",
       "23233         14077\n",
       "23075         12661\n",
       "23294         11378\n",
       "23226         11335\n",
       "23222          8440\n",
       "23230          5618\n",
       "23233-7604      524\n",
       "23233-7642      429\n",
       "23059-5603      333\n",
       "23059-5801      284\n",
       "23223-5955      258\n",
       "230605817       244\n",
       "23059-5304      218\n",
       "23059-5803      196\n",
       "23233-2424      163\n",
       "23059-5722      144\n",
       "23233-3502      140\n",
       "23059-7100      138\n",
       "23294-4302      138\n",
       "23238-3064      134\n",
       "23233-7678      134\n",
       "              ...  \n",
       "23228-1535        1\n",
       "232317424         1\n",
       "232235950         1\n",
       "232284221         1\n",
       "23233-1712        1\n",
       "23233-7536        1\n",
       "232235951         1\n",
       "23233-7010        1\n",
       "23233-7787        1\n",
       "23233-1113        1\n",
       "232316217         1\n",
       "23233-1676        1\n",
       "23150-3404        1\n",
       "23238-3036        1\n",
       "23233-6944        1\n",
       "23060-3238        1\n",
       "23238-5721        1\n",
       "23238-3236        1\n",
       "23150-3411        1\n",
       "23294-5911        1\n",
       "23223-6800        1\n",
       "23229-7404        1\n",
       "23294-4607        1\n",
       "23059-5312        1\n",
       "23223-6206        1\n",
       "23059-1129        1\n",
       "232297458         1\n",
       "23059-5728        1\n",
       "23227-2405        1\n",
       "23231-6504        1\n",
       "Name: Prop_zip, Length: 1928, dtype: int64"
      ]
     },
     "execution_count": 8,
     "metadata": {},
     "output_type": "execute_result"
    }
   ],
   "source": [
    "# let's look at zip code data first\n",
    "henrico['Prop_zip'].value_counts()"
   ]
  },
  {
   "cell_type": "code",
   "execution_count": 9,
   "metadata": {},
   "outputs": [
    {
     "data": {
      "text/plain": [
       "23060        49128\n",
       "23228        40329\n",
       "23231        39283\n",
       "23059        38821\n",
       "23229        38244\n",
       "23233        37386\n",
       "23223        27207\n",
       "23238        24931\n",
       "23150        16350\n",
       "23227        14782\n",
       "23075        13441\n",
       "23294        11858\n",
       "23226        11484\n",
       "23222         8447\n",
       "23230         5688\n",
       "230605817      244\n",
       "23273           90\n",
       "232273186       67\n",
       "232273109       39\n",
       "232286403       38\n",
       "232286404       38\n",
       "232281507       34\n",
       "232281537       30\n",
       "230604229       28\n",
       "23030           28\n",
       "232231948       27\n",
       "232273110       26\n",
       "232281502       22\n",
       "232231947       21\n",
       "232273187       20\n",
       "             ...  \n",
       "23225            2\n",
       "230751230        2\n",
       "230594626        2\n",
       "232315801        2\n",
       "231505714        2\n",
       "230752111        2\n",
       "232281535        2\n",
       "23250            2\n",
       "230605216        2\n",
       "230752629        2\n",
       "232284839        2\n",
       "230595494        2\n",
       "232317217        2\n",
       "231505802        2\n",
       "230596973        2\n",
       "232294512        2\n",
       "232235604        2\n",
       "232285532        2\n",
       "232316217        1\n",
       "232235951        1\n",
       "232286428        1\n",
       "232284221        1\n",
       "232297458        1\n",
       "231503403        1\n",
       "230604912        1\n",
       "232316019        1\n",
       "232235950        1\n",
       "231504400        1\n",
       "232317424        1\n",
       "230751748        1\n",
       "Name: zip, Length: 184, dtype: int64"
      ]
     },
     "execution_count": 9,
     "metadata": {},
     "output_type": "execute_result"
    }
   ],
   "source": [
    "# We can see we have more than 1900 different zip codes due to inconsistent formatting\n",
    "# We can clean that up. Let's first split on the hypen\n",
    "henrico[['zip','zip_last_four']] = henrico['Prop_zip'].str.split('-',expand=True)\n",
    "henrico['zip'].value_counts()"
   ]
  },
  {
   "cell_type": "code",
   "execution_count": 10,
   "metadata": {},
   "outputs": [
    {
     "data": {
      "text/plain": [
       "23060    49473\n",
       "23228    40674\n",
       "23231    39340\n",
       "23059    39040\n",
       "23229    38278\n",
       "23233    37386\n",
       "23223    27293\n",
       "23238    24931\n",
       "23150    16439\n",
       "23227    14967\n",
       "23075    13483\n",
       "23294    11864\n",
       "23226    11490\n",
       "23222     8466\n",
       "23230     5691\n",
       "23273       90\n",
       "23030       28\n",
       "23259       11\n",
       "23250        2\n",
       "23225        2\n",
       "Name: zip, dtype: int64"
      ]
     },
     "execution_count": 10,
     "metadata": {},
     "output_type": "execute_result"
    }
   ],
   "source": [
    "# Better. We can also set zip to be the first 5 characters in the string\n",
    "# We are throwing away the last four data here, but we wont need that for this analysis\n",
    "henrico['zip'] = henrico['zip'].str[0:5]\n",
    "henrico['zip'].value_counts()"
   ]
  },
  {
   "cell_type": "code",
   "execution_count": 11,
   "metadata": {},
   "outputs": [],
   "source": [
    "# Now we can create a filter for houses in 23228\n",
    "in23228 = (henrico['zip'] == '23228')\n",
    "zip_df = henrico[in23228]"
   ]
  },
  {
   "cell_type": "code",
   "execution_count": 12,
   "metadata": {},
   "outputs": [
    {
     "data": {
      "text/plain": [
       "(40674, 34)"
      ]
     },
     "execution_count": 12,
     "metadata": {},
     "output_type": "execute_result"
    }
   ],
   "source": [
    "# How many transactions does that data include?\n",
    "zip_df.shape"
   ]
  },
  {
   "cell_type": "code",
   "execution_count": 13,
   "metadata": {},
   "outputs": [
    {
     "name": "stderr",
     "output_type": "stream",
     "text": [
      "C:\\Users\\RP\\Anaconda3\\lib\\site-packages\\pandas\\plotting\\_converter.py:129: FutureWarning: Using an implicitly registered datetime converter for a matplotlib plotting method. The converter was registered by pandas on import. Future versions of pandas will require you to explicitly register matplotlib converters.\n",
      "\n",
      "To register the converters:\n",
      "\t>>> from pandas.plotting import register_matplotlib_converters\n",
      "\t>>> register_matplotlib_converters()\n",
      "  warnings.warn(msg, FutureWarning)\n"
     ]
    },
    {
     "data": {
      "text/plain": [
       "<matplotlib.collections.PathCollection at 0x27fe807fb38>"
      ]
     },
     "execution_count": 13,
     "metadata": {},
     "output_type": "execute_result"
    },
    {
     "data": {
      "image/png": "[encoded data removed]",
      "text/plain": [
       "<Figure size 432x288 with 1 Axes>"
      ]
     },
     "metadata": {
      "needs_background": "light"
     },
     "output_type": "display_data"
    }
   ],
   "source": [
    "# Almost 41,000 sales\n",
    "plt.scatter(zip_df['Sale_date'],zip_df['Sale_price'])"
   ]
  },
  {
   "cell_type": "code",
   "execution_count": 14,
   "metadata": {},
   "outputs": [],
   "source": [
    "# looks like we have some outlier sale prices and dates\n",
    "# Let's look at sales in the past decade and under $1M\n",
    "isRecent = (zip_df['Sale_date'] > '2010-06-01')\n",
    "normalPrice = (zip_df['Sale_price'] < 1000000)\n",
    "zip_df = zip_df[(isRecent) & (normalPrice)]"
   ]
  },
  {
   "cell_type": "code",
   "execution_count": 15,
   "metadata": {},
   "outputs": [
    {
     "data": {
      "text/plain": [
       "<matplotlib.collections.PathCollection at 0x27fda2cc9b0>"
      ]
     },
     "execution_count": 15,
     "metadata": {},
     "output_type": "execute_result"
    },
    {
     "data": {
      "image/png": "[encoded data removed]",
      "text/plain": [
       "<Figure size 432x288 with 1 Axes>"
      ]
     },
     "metadata": {
      "needs_background": "light"
     },
     "output_type": "display_data"
    }
   ],
   "source": [
    "plt.scatter(zip_df['Sale_date'],zip_df['Sale_price'])"
   ]
  },
  {
   "cell_type": "code",
   "execution_count": 16,
   "metadata": {},
   "outputs": [],
   "source": [
    "# Looks like a line of houses near zero. These are probably inheritance or otherwise not \"on the market\" normal sales.\n",
    "greaterThan1000 = (zip_df['Sale_price'] > 1000)\n",
    "zip_df = zip_df[greaterThan1000]"
   ]
  },
  {
   "cell_type": "code",
   "execution_count": 17,
   "metadata": {},
   "outputs": [
    {
     "data": {
      "text/plain": [
       "<matplotlib.collections.PathCollection at 0x27fddabfb70>"
      ]
     },
     "execution_count": 17,
     "metadata": {},
     "output_type": "execute_result"
    },
    {
     "data": {
      "image/png": "[encoded data removed]",
      "text/plain": [
       "<Figure size 432x288 with 1 Axes>"
      ]
     },
     "metadata": {
      "needs_background": "light"
     },
     "output_type": "display_data"
    }
   ],
   "source": [
    "plt.scatter(zip_df['Sale_date'],zip_df['Sale_price'])"
   ]
  },
  {
   "cell_type": "code",
   "execution_count": 21,
   "metadata": {},
   "outputs": [
    {
     "data": {
      "text/plain": [
       "<matplotlib.collections.PathCollection at 0x27fdd923b00>"
      ]
     },
     "execution_count": 21,
     "metadata": {},
     "output_type": "execute_result"
    },
    {
     "data": {
      "image/png": "[encoded data removed]",
      "text/plain": [
       "<Figure size 432x288 with 1 Axes>"
      ]
     },
     "metadata": {
      "needs_background": "light"
     },
     "output_type": "display_data"
    }
   ],
   "source": [
    "# Now let's look at trends with square footage\n",
    "plt.scatter(zip_df['Sfla'],zip_df['Sale_price'])"
   ]
  },
  {
   "cell_type": "code",
   "execution_count": 22,
   "metadata": {},
   "outputs": [
    {
     "name": "stdout",
     "output_type": "stream",
     "text": [
      "Missing records in square footage: 0\n",
      "Missing records in sale price: 0\n"
     ]
    }
   ],
   "source": [
    "# Looks pretty good. Let's look for missing data\n",
    "print(\"Missing records in square footage:\",zip_df['Sfla'].isna().sum())\n",
    "print(\"Missing records in sale price:\",zip_df['Sale_price'].isna().sum())"
   ]
  },
  {
   "cell_type": "code",
   "execution_count": 20,
   "metadata": {},
   "outputs": [],
   "source": [
    "# Almost 1,000 transactions with missing square footage details. Let's drop those.\n",
    "zip_df.dropna(axis='index',how='any',subset=['Sfla'],inplace=True)"
   ]
  },
  {
   "cell_type": "code",
   "execution_count": 23,
   "metadata": {},
   "outputs": [],
   "source": [
    "# Let's start our linear regression.\n",
    "# Let X be our independent variable, square footage\n",
    "# Let Y be our dependent variable, sale price\n",
    "X = zip_df['Sfla']\n",
    "Y = zip_df['Sale_price']"
   ]
  },
  {
   "cell_type": "code",
   "execution_count": 24,
   "metadata": {},
   "outputs": [
    {
     "name": "stdout",
     "output_type": "stream",
     "text": [
      "1396.4244891177937 161852.91476989535\n"
     ]
    }
   ],
   "source": [
    "# First, let's find the mean of X and Y\n",
    "X_mean = np.mean(X)\n",
    "Y_mean = np.mean(Y)\n",
    "print(X_mean,Y_mean)"
   ]
  },
  {
   "cell_type": "code",
   "execution_count": 18,
   "metadata": {},
   "outputs": [],
   "source": [
    "# Now we can build the model using the equation from above\n",
    "numerator = 0\n",
    "denominator = 0\n",
    "for i in range(len(X)):\n",
    "    numerator += (X.iloc[i]-X_mean)*(Y.iloc[i]-Y_mean)\n",
    "    denominator += (X.iloc[i]-X_mean)**2\n",
    "m = numerator/denominator\n",
    "c = Y_mean - m*X_mean"
   ]
  },
  {
   "cell_type": "code",
   "execution_count": 19,
   "metadata": {},
   "outputs": [
    {
     "data": {
      "text/plain": [
       "92.83490649439223"
      ]
     },
     "execution_count": 19,
     "metadata": {},
     "output_type": "execute_result"
    }
   ],
   "source": [
    "m"
   ]
  },
  {
   "cell_type": "code",
   "execution_count": 20,
   "metadata": {},
   "outputs": [
    {
     "data": {
      "text/plain": [
       "32215.97789616554"
      ]
     },
     "execution_count": 20,
     "metadata": {},
     "output_type": "execute_result"
    }
   ],
   "source": [
    "c"
   ]
  },
  {
   "cell_type": "code",
   "execution_count": 21,
   "metadata": {},
   "outputs": [],
   "source": [
    "def predict_sale_price(square_feet):\n",
    "    return ((square_feet*92.83490649439223) + 32215.97789616554)"
   ]
  },
  {
   "cell_type": "code",
   "execution_count": 22,
   "metadata": {},
   "outputs": [],
   "source": [
    "zip_df['predicted_sale_price'] = zip_df['Sfla'].apply(predict_sale_price)"
   ]
  },
  {
   "cell_type": "code",
   "execution_count": 23,
   "metadata": {},
   "outputs": [],
   "source": [
    "zip_df['error_in_prediction'] = np.abs(zip_df['Sale_price']-zip_df['predicted_sale_price'])"
   ]
  },
  {
   "cell_type": "code",
   "execution_count": 24,
   "metadata": {},
   "outputs": [
    {
     "data": {
      "text/plain": [
       "count      6019.000000\n",
       "mean      43606.172645\n",
       "std       45887.304689\n",
       "min           3.511869\n",
       "25%       14596.622644\n",
       "50%       32264.092755\n",
       "75%       56785.561203\n",
       "max      425417.643484\n",
       "Name: error_in_prediction, dtype: float64"
      ]
     },
     "execution_count": 24,
     "metadata": {},
     "output_type": "execute_result"
    }
   ],
   "source": [
    "zip_df['error_in_prediction'].describe()"
   ]
  },
  {
   "cell_type": "code",
   "execution_count": 25,
   "metadata": {},
   "outputs": [
    {
     "data": {
      "text/plain": [
       "[<matplotlib.lines.Line2D at 0x16806cbea20>]"
      ]
     },
     "execution_count": 25,
     "metadata": {},
     "output_type": "execute_result"
    },
    {
     "data": {
      "image/png": "[encoded data removed]",
      "text/plain": [
       "<Figure size 432x288 with 1 Axes>"
      ]
     },
     "metadata": {
      "needs_background": "light"
     },
     "output_type": "display_data"
    }
   ],
   "source": [
    "plt.scatter(zip_df['Sfla'],zip_df['Sale_price'])\n",
    "plt.plot([zip_df['Sfla'].min(),zip_df['Sfla'].max()],[zip_df['predicted_sale_price'].min(),zip_df['predicted_sale_price'].max()],c='red')"
   ]
  },
  {
   "cell_type": "code",
   "execution_count": 26,
   "metadata": {},
   "outputs": [
    {
     "name": "stderr",
     "output_type": "stream",
     "text": [
      "C:\\Users\\RP\\Anaconda3\\lib\\site-packages\\pandas\\core\\frame.py:3940: SettingWithCopyWarning: \n",
      "A value is trying to be set on a copy of a slice from a DataFrame\n",
      "\n",
      "See the caveats in the documentation: http://pandas.pydata.org/pandas-docs/stable/indexing.html#indexing-view-versus-copy\n",
      "  errors=errors)\n"
     ]
    }
   ],
   "source": [
    "# Average error of $43,000 doesn't sound too good.  Could we do this analysis again with only a single year of data?\n",
    "year2015 = ((zip_df['Sale_date'] >= '2015-01-01') & (zip_df['Sale_date']<='2015-12-31'))\n",
    "zip_df_2015 = zip_df[year2015]\n",
    "zip_df_2015.drop(['predicted_sale_price','error_in_prediction'],axis=1,inplace=True)"
   ]
  },
  {
   "cell_type": "code",
   "execution_count": 27,
   "metadata": {},
   "outputs": [
    {
     "name": "stderr",
     "output_type": "stream",
     "text": [
      "C:\\Users\\RP\\Anaconda3\\lib\\site-packages\\ipykernel_launcher.py:19: SettingWithCopyWarning: \n",
      "A value is trying to be set on a copy of a slice from a DataFrame.\n",
      "Try using .loc[row_indexer,col_indexer] = value instead\n",
      "\n",
      "See the caveats in the documentation: http://pandas.pydata.org/pandas-docs/stable/indexing.html#indexing-view-versus-copy\n",
      "C:\\Users\\RP\\Anaconda3\\lib\\site-packages\\ipykernel_launcher.py:20: SettingWithCopyWarning: \n",
      "A value is trying to be set on a copy of a slice from a DataFrame.\n",
      "Try using .loc[row_indexer,col_indexer] = value instead\n",
      "\n",
      "See the caveats in the documentation: http://pandas.pydata.org/pandas-docs/stable/indexing.html#indexing-view-versus-copy\n"
     ]
    },
    {
     "data": {
      "text/plain": [
       "count       699.000000\n",
       "mean      42319.978751\n",
       "std       61196.617596\n",
       "min          34.525931\n",
       "25%       12686.552245\n",
       "50%       27145.105263\n",
       "75%       48196.196771\n",
       "max      424959.044385\n",
       "Name: error_in_prediction, dtype: float64"
      ]
     },
     "execution_count": 27,
     "metadata": {},
     "output_type": "execute_result"
    }
   ],
   "source": [
    "X = zip_df_2015['Sfla']\n",
    "Y = zip_df_2015['Sale_price']\n",
    "\n",
    "X_mean = np.mean(X)\n",
    "Y_mean = np.mean(Y)\n",
    "\n",
    "numerator = 0\n",
    "denominator = 0\n",
    "for i in range(len(X)):\n",
    "    numerator += (X.iloc[i]-X_mean)*(Y.iloc[i]-Y_mean)\n",
    "    denominator += (X.iloc[i]-X_mean)**2\n",
    "    \n",
    "m = numerator/denominator\n",
    "c = Y_mean - m*X_mean\n",
    "\n",
    "def predict_sale_price(square_feet):\n",
    "    return ((square_feet*m) + c)\n",
    "\n",
    "zip_df_2015['predicted_sale_price'] = zip_df_2015['Sfla'].apply(predict_sale_price)\n",
    "zip_df_2015['error_in_prediction'] = np.abs(zip_df_2015['Sale_price']-zip_df_2015['predicted_sale_price'])\n",
    "zip_df_2015['error_in_prediction'].describe()"
   ]
  },
  {
   "cell_type": "code",
   "execution_count": 28,
   "metadata": {},
   "outputs": [
    {
     "data": {
      "text/plain": [
       "[<matplotlib.lines.Line2D at 0x168068d6a58>]"
      ]
     },
     "execution_count": 28,
     "metadata": {},
     "output_type": "execute_result"
    },
    {
     "data": {
      "image/png": "[encoded data removed]",
      "text/plain": [
       "<Figure size 432x288 with 1 Axes>"
      ]
     },
     "metadata": {
      "needs_background": "light"
     },
     "output_type": "display_data"
    }
   ],
   "source": [
    "plt.scatter(zip_df_2015['Sfla'],zip_df_2015['Sale_price'])\n",
    "plt.plot([zip_df_2015['Sfla'].min(),zip_df_2015['Sfla'].max()],[zip_df_2015['predicted_sale_price'].min(),zip_df_2015['predicted_sale_price'].max()],c='red')"
   ]
  },
  {
   "cell_type": "code",
   "execution_count": 29,
   "metadata": {},
   "outputs": [
    {
     "data": {
      "text/html": [
       "<div>\n",
       "<style scoped>\n",
       "    .dataframe tbody tr th:only-of-type {\n",
       "        vertical-align: middle;\n",
       "    }\n",
       "\n",
       "    .dataframe tbody tr th {\n",
       "        vertical-align: top;\n",
       "    }\n",
       "\n",
       "    .dataframe thead th {\n",
       "        text-align: right;\n",
       "    }\n",
       "</style>\n",
       "<table border=\"1\" class=\"dataframe\">\n",
       "  <thead>\n",
       "    <tr style=\"text-align: right;\">\n",
       "      <th></th>\n",
       "      <th>Prop_addr</th>\n",
       "      <th>Grantee</th>\n",
       "      <th>Grantor</th>\n",
       "      <th>Sale_price</th>\n",
       "      <th>predicted_sale_price</th>\n",
       "      <th>Sfla</th>\n",
       "      <th>TotalAsmt</th>\n",
       "      <th>Parcel_Status</th>\n",
       "      <th>Acres</th>\n",
       "    </tr>\n",
       "  </thead>\n",
       "  <tbody>\n",
       "    <tr>\n",
       "      <th>190303</th>\n",
       "      <td>4519 WISTAR RD</td>\n",
       "      <td>MERIDIAN LAND HOLDINGS LLC</td>\n",
       "      <td>DUNNAVANT JOHN M JR RE TR</td>\n",
       "      <td>500000.0</td>\n",
       "      <td>243265.479428</td>\n",
       "      <td>2155.0</td>\n",
       "      <td>210900.0</td>\n",
       "      <td>I</td>\n",
       "      <td>NaN</td>\n",
       "    </tr>\n",
       "    <tr>\n",
       "      <th>190335</th>\n",
       "      <td>4517 WISTAR RD</td>\n",
       "      <td>MERIDIAN LAND HOLDINGS LLC</td>\n",
       "      <td>DUNNAVANT JOHN M JR TRS</td>\n",
       "      <td>500000.0</td>\n",
       "      <td>243265.479428</td>\n",
       "      <td>2155.0</td>\n",
       "      <td>75800.0</td>\n",
       "      <td>I</td>\n",
       "      <td>NaN</td>\n",
       "    </tr>\n",
       "    <tr>\n",
       "      <th>230415</th>\n",
       "      <td>1912  HUNGARY OAK CT</td>\n",
       "      <td>OAK KNOLL DEVELOPMENT LLC</td>\n",
       "      <td>NaN</td>\n",
       "      <td>25000.0</td>\n",
       "      <td>306500.315022</td>\n",
       "      <td>2734.0</td>\n",
       "      <td>356300.0</td>\n",
       "      <td>A</td>\n",
       "      <td>0.285</td>\n",
       "    </tr>\n",
       "    <tr>\n",
       "      <th>230472</th>\n",
       "      <td>9451  LAUGHING OAK CT</td>\n",
       "      <td>OAK KNOLL DEVELOPMENT LLC</td>\n",
       "      <td>NaN</td>\n",
       "      <td>598000.0</td>\n",
       "      <td>192371.812092</td>\n",
       "      <td>1689.0</td>\n",
       "      <td>350200.0</td>\n",
       "      <td>A</td>\n",
       "      <td>0.538</td>\n",
       "    </tr>\n",
       "    <tr>\n",
       "      <th>230487</th>\n",
       "      <td>9442  LAUGHING OAK CT</td>\n",
       "      <td>OAK KNOLL DEVELOPMENT LLC</td>\n",
       "      <td>NaN</td>\n",
       "      <td>598000.0</td>\n",
       "      <td>184836.054482</td>\n",
       "      <td>1620.0</td>\n",
       "      <td>327700.0</td>\n",
       "      <td>A</td>\n",
       "      <td>0.542</td>\n",
       "    </tr>\n",
       "    <tr>\n",
       "      <th>230498</th>\n",
       "      <td>9445  LAUGHING OAK CT</td>\n",
       "      <td>OAK KNOLL DEVELOPMENT LLC</td>\n",
       "      <td>NaN</td>\n",
       "      <td>598000.0</td>\n",
       "      <td>178829.291170</td>\n",
       "      <td>1565.0</td>\n",
       "      <td>337200.0</td>\n",
       "      <td>A</td>\n",
       "      <td>0.317</td>\n",
       "    </tr>\n",
       "    <tr>\n",
       "      <th>230501</th>\n",
       "      <td>9434  LAUGHING OAK CT</td>\n",
       "      <td>OAK KNOLL DEVELOPMENT LLC</td>\n",
       "      <td>NaN</td>\n",
       "      <td>598000.0</td>\n",
       "      <td>189423.037375</td>\n",
       "      <td>1662.0</td>\n",
       "      <td>353000.0</td>\n",
       "      <td>A</td>\n",
       "      <td>0.341</td>\n",
       "    </tr>\n",
       "    <tr>\n",
       "      <th>230504</th>\n",
       "      <td>1912  QUIET OAKS CIR</td>\n",
       "      <td>OAK KNOLL DEVELOPMENT LLC</td>\n",
       "      <td>NaN</td>\n",
       "      <td>598000.0</td>\n",
       "      <td>209081.535488</td>\n",
       "      <td>1842.0</td>\n",
       "      <td>337500.0</td>\n",
       "      <td>A</td>\n",
       "      <td>0.304</td>\n",
       "    </tr>\n",
       "    <tr>\n",
       "      <th>230507</th>\n",
       "      <td>9441  LAUGHING OAK CT</td>\n",
       "      <td>OAK KNOLL DEVELOPMENT LLC</td>\n",
       "      <td>NaN</td>\n",
       "      <td>598000.0</td>\n",
       "      <td>185491.337753</td>\n",
       "      <td>1626.0</td>\n",
       "      <td>362500.0</td>\n",
       "      <td>A</td>\n",
       "      <td>0.257</td>\n",
       "    </tr>\n",
       "    <tr>\n",
       "      <th>230513</th>\n",
       "      <td>9430  LAUGHING OAK CT</td>\n",
       "      <td>OAK KNOLL DEVELOPMENT LLC</td>\n",
       "      <td>NaN</td>\n",
       "      <td>598000.0</td>\n",
       "      <td>178501.649535</td>\n",
       "      <td>1562.0</td>\n",
       "      <td>344000.0</td>\n",
       "      <td>A</td>\n",
       "      <td>0.263</td>\n",
       "    </tr>\n",
       "    <tr>\n",
       "      <th>230519</th>\n",
       "      <td>1913 QUIET OAKS CIR</td>\n",
       "      <td>OAK KNOLL DEVELOPMENT LLC</td>\n",
       "      <td>NaN</td>\n",
       "      <td>25000.0</td>\n",
       "      <td>308247.737077</td>\n",
       "      <td>2750.0</td>\n",
       "      <td>371200.0</td>\n",
       "      <td>A</td>\n",
       "      <td>0.471</td>\n",
       "    </tr>\n",
       "    <tr>\n",
       "      <th>230522</th>\n",
       "      <td>9437  LAUGHING OAK CT</td>\n",
       "      <td>OAK KNOLL DEVELOPMENT LLC</td>\n",
       "      <td>NaN</td>\n",
       "      <td>598000.0</td>\n",
       "      <td>189750.679011</td>\n",
       "      <td>1665.0</td>\n",
       "      <td>344100.0</td>\n",
       "      <td>A</td>\n",
       "      <td>0.257</td>\n",
       "    </tr>\n",
       "    <tr>\n",
       "      <th>230536</th>\n",
       "      <td>1900  QUIET OAKS CIR</td>\n",
       "      <td>OAK KNOLL DEVELOPMENT LLC</td>\n",
       "      <td>NaN</td>\n",
       "      <td>598000.0</td>\n",
       "      <td>192371.812092</td>\n",
       "      <td>1689.0</td>\n",
       "      <td>337500.0</td>\n",
       "      <td>A</td>\n",
       "      <td>0.270</td>\n",
       "    </tr>\n",
       "    <tr>\n",
       "      <th>230545</th>\n",
       "      <td>9429  LAUGHING OAK CT</td>\n",
       "      <td>OAK KNOLL DEVELOPMENT LLC</td>\n",
       "      <td>NaN</td>\n",
       "      <td>598000.0</td>\n",
       "      <td>173040.955615</td>\n",
       "      <td>1512.0</td>\n",
       "      <td>338600.0</td>\n",
       "      <td>A</td>\n",
       "      <td>0.257</td>\n",
       "    </tr>\n",
       "    <tr>\n",
       "      <th>230565</th>\n",
       "      <td>9425  LAUGHING OAK CT</td>\n",
       "      <td>OAK KNOLL DEVELOPMENT LLC</td>\n",
       "      <td>NaN</td>\n",
       "      <td>598000.0</td>\n",
       "      <td>185600.551631</td>\n",
       "      <td>1627.0</td>\n",
       "      <td>337500.0</td>\n",
       "      <td>A</td>\n",
       "      <td>0.257</td>\n",
       "    </tr>\n",
       "    <tr>\n",
       "      <th>230593</th>\n",
       "      <td>9408  LAUGHING OAK CT</td>\n",
       "      <td>OAK KNOLL DEVELOPMENT LLC</td>\n",
       "      <td>NaN</td>\n",
       "      <td>598000.0</td>\n",
       "      <td>187129.545929</td>\n",
       "      <td>1641.0</td>\n",
       "      <td>302100.0</td>\n",
       "      <td>A</td>\n",
       "      <td>0.254</td>\n",
       "    </tr>\n",
       "    <tr>\n",
       "      <th>230596</th>\n",
       "      <td>9417  LAUGHING OAK CT</td>\n",
       "      <td>OAK KNOLL DEVELOPMENT LLC</td>\n",
       "      <td>NaN</td>\n",
       "      <td>598000.0</td>\n",
       "      <td>338390.767516</td>\n",
       "      <td>3026.0</td>\n",
       "      <td>336300.0</td>\n",
       "      <td>A</td>\n",
       "      <td>0.257</td>\n",
       "    </tr>\n",
       "    <tr>\n",
       "      <th>250663</th>\n",
       "      <td>1605 LITTLETON BLVD</td>\n",
       "      <td>THAWRANI MEETA &amp; SUNIL</td>\n",
       "      <td>M &amp; T BANK</td>\n",
       "      <td>52500.0</td>\n",
       "      <td>313708.430997</td>\n",
       "      <td>2800.0</td>\n",
       "      <td>253600.0</td>\n",
       "      <td>A</td>\n",
       "      <td>NaN</td>\n",
       "    </tr>\n",
       "  </tbody>\n",
       "</table>\n",
       "</div>"
      ],
      "text/plain": [
       "                    Prop_addr                     Grantee  \\\n",
       "190303         4519 WISTAR RD  MERIDIAN LAND HOLDINGS LLC   \n",
       "190335         4517 WISTAR RD  MERIDIAN LAND HOLDINGS LLC   \n",
       "230415   1912  HUNGARY OAK CT   OAK KNOLL DEVELOPMENT LLC   \n",
       "230472  9451  LAUGHING OAK CT   OAK KNOLL DEVELOPMENT LLC   \n",
       "230487  9442  LAUGHING OAK CT   OAK KNOLL DEVELOPMENT LLC   \n",
       "230498  9445  LAUGHING OAK CT   OAK KNOLL DEVELOPMENT LLC   \n",
       "230501  9434  LAUGHING OAK CT   OAK KNOLL DEVELOPMENT LLC   \n",
       "230504   1912  QUIET OAKS CIR   OAK KNOLL DEVELOPMENT LLC   \n",
       "230507  9441  LAUGHING OAK CT   OAK KNOLL DEVELOPMENT LLC   \n",
       "230513  9430  LAUGHING OAK CT   OAK KNOLL DEVELOPMENT LLC   \n",
       "230519    1913 QUIET OAKS CIR   OAK KNOLL DEVELOPMENT LLC   \n",
       "230522  9437  LAUGHING OAK CT   OAK KNOLL DEVELOPMENT LLC   \n",
       "230536   1900  QUIET OAKS CIR   OAK KNOLL DEVELOPMENT LLC   \n",
       "230545  9429  LAUGHING OAK CT   OAK KNOLL DEVELOPMENT LLC   \n",
       "230565  9425  LAUGHING OAK CT   OAK KNOLL DEVELOPMENT LLC   \n",
       "230593  9408  LAUGHING OAK CT   OAK KNOLL DEVELOPMENT LLC   \n",
       "230596  9417  LAUGHING OAK CT   OAK KNOLL DEVELOPMENT LLC   \n",
       "250663    1605 LITTLETON BLVD      THAWRANI MEETA & SUNIL   \n",
       "\n",
       "                          Grantor  Sale_price  predicted_sale_price    Sfla  \\\n",
       "190303  DUNNAVANT JOHN M JR RE TR    500000.0         243265.479428  2155.0   \n",
       "190335    DUNNAVANT JOHN M JR TRS    500000.0         243265.479428  2155.0   \n",
       "230415                        NaN     25000.0         306500.315022  2734.0   \n",
       "230472                        NaN    598000.0         192371.812092  1689.0   \n",
       "230487                        NaN    598000.0         184836.054482  1620.0   \n",
       "230498                        NaN    598000.0         178829.291170  1565.0   \n",
       "230501                        NaN    598000.0         189423.037375  1662.0   \n",
       "230504                        NaN    598000.0         209081.535488  1842.0   \n",
       "230507                        NaN    598000.0         185491.337753  1626.0   \n",
       "230513                        NaN    598000.0         178501.649535  1562.0   \n",
       "230519                        NaN     25000.0         308247.737077  2750.0   \n",
       "230522                        NaN    598000.0         189750.679011  1665.0   \n",
       "230536                        NaN    598000.0         192371.812092  1689.0   \n",
       "230545                        NaN    598000.0         173040.955615  1512.0   \n",
       "230565                        NaN    598000.0         185600.551631  1627.0   \n",
       "230593                        NaN    598000.0         187129.545929  1641.0   \n",
       "230596                        NaN    598000.0         338390.767516  3026.0   \n",
       "250663                 M & T BANK     52500.0         313708.430997  2800.0   \n",
       "\n",
       "        TotalAsmt Parcel_Status  Acres  \n",
       "190303   210900.0             I    NaN  \n",
       "190335    75800.0             I    NaN  \n",
       "230415   356300.0             A  0.285  \n",
       "230472   350200.0             A  0.538  \n",
       "230487   327700.0             A  0.542  \n",
       "230498   337200.0             A  0.317  \n",
       "230501   353000.0             A  0.341  \n",
       "230504   337500.0             A  0.304  \n",
       "230507   362500.0             A  0.257  \n",
       "230513   344000.0             A  0.263  \n",
       "230519   371200.0             A  0.471  \n",
       "230522   344100.0             A  0.257  \n",
       "230536   337500.0             A  0.270  \n",
       "230545   338600.0             A  0.257  \n",
       "230565   337500.0             A  0.257  \n",
       "230593   302100.0             A  0.254  \n",
       "230596   336300.0             A  0.257  \n",
       "250663   253600.0             A    NaN  "
      ]
     },
     "execution_count": 29,
     "metadata": {},
     "output_type": "execute_result"
    }
   ],
   "source": [
    "# What are these crazy sales where I'm off by a ton?\n",
    "zip_df_2015[zip_df_2015['error_in_prediction'] > 250000][['Prop_addr','Grantee','Grantor',\\\n",
    "                                                          'Sale_price','predicted_sale_price',\\\n",
    "                                                          'Sfla','TotalAsmt','Parcel_Status','Acres']]"
   ]
  },
  {
   "cell_type": "code",
   "execution_count": 30,
   "metadata": {},
   "outputs": [],
   "source": [
    "# 17 of 18 records have 'LLC' in their buyer's name. This suggests these are investment related transactions and that the \n",
    "# Sale_price may reflect multiple parcels. There are also a number of sales at exactly the same price, (e.g. $598k)\n",
    "# Let's filter these out\n",
    "business_transaction_filter = (zip_df_2015['Grantee'].str.contains(\"LLC\"))\n",
    "zip_df_2015 = zip_df_2015[~business_transaction_filter]"
   ]
  },
  {
   "cell_type": "code",
   "execution_count": 31,
   "metadata": {},
   "outputs": [
    {
     "data": {
      "text/plain": [
       "count       614.000000\n",
       "mean      30976.052631\n",
       "std       26242.805347\n",
       "min          47.094167\n",
       "25%       11978.612643\n",
       "50%       25575.742033\n",
       "75%       42426.329328\n",
       "max      235081.228009\n",
       "Name: error_in_prediction, dtype: float64"
      ]
     },
     "execution_count": 31,
     "metadata": {},
     "output_type": "execute_result"
    }
   ],
   "source": [
    "X = zip_df_2015['Sfla']\n",
    "Y = zip_df_2015['Sale_price']\n",
    "\n",
    "X_mean = np.mean(X)\n",
    "Y_mean = np.mean(Y)\n",
    "\n",
    "numerator = 0\n",
    "denominator = 0\n",
    "slopes = []\n",
    "intercepts = []\n",
    "for i in range(len(X)):\n",
    "    numerator += (X.iloc[i]-X_mean)*(Y.iloc[i]-Y_mean)\n",
    "    denominator += (X.iloc[i]-X_mean)**2\n",
    "    slopes.append(numerator/denominator)\n",
    "    intercepts.append(Y_mean - (numerator/denominator)*X_mean)\n",
    "    \n",
    "m = numerator/denominator\n",
    "c = Y_mean - m*X_mean\n",
    "\n",
    "def predict_sale_price(square_feet):\n",
    "    return ((square_feet*m) + c)\n",
    "\n",
    "zip_df_2015['predicted_sale_price'] = zip_df_2015['Sfla'].apply(predict_sale_price)\n",
    "zip_df_2015['error_in_prediction'] = np.abs(zip_df_2015['Sale_price']-zip_df_2015['predicted_sale_price'])\n",
    "zip_df_2015['error_in_prediction'].describe()"
   ]
  },
  {
   "cell_type": "code",
   "execution_count": 45,
   "metadata": {},
   "outputs": [
    {
     "data": {
      "image/png": "[encoded data removed]",
      "text/plain": [
       "<Figure size 432x288 with 1 Axes>"
      ]
     },
     "metadata": {
      "needs_background": "light"
     },
     "output_type": "display_data"
    }
   ],
   "source": [
    "# That brought the mean error down by $13k!!\n",
    "# Max error is still more than $200k though...\n",
    "\n",
    "# Let's look at the results again\n",
    "plt.scatter(zip_df_2015['Sfla'],zip_df_2015['Sale_price'])\n",
    "plt.plot([zip_df_2015['Sfla'].min(),zip_df_2015['Sfla'].max()],\\\n",
    "         [zip_df_2015['predicted_sale_price'].min(),\\\n",
    "          zip_df_2015['predicted_sale_price'].max()],c='red')\n",
    "plt.xlabel('Square Footage')\n",
    "plt.ylabel('Sales Price')\n",
    "plt.show()"
   ]
  },
  {
   "cell_type": "code",
   "execution_count": 33,
   "metadata": {},
   "outputs": [
    {
     "data": {
      "text/html": [
       "<div>\n",
       "<style scoped>\n",
       "    .dataframe tbody tr th:only-of-type {\n",
       "        vertical-align: middle;\n",
       "    }\n",
       "\n",
       "    .dataframe tbody tr th {\n",
       "        vertical-align: top;\n",
       "    }\n",
       "\n",
       "    .dataframe thead th {\n",
       "        text-align: right;\n",
       "    }\n",
       "</style>\n",
       "<table border=\"1\" class=\"dataframe\">\n",
       "  <thead>\n",
       "    <tr style=\"text-align: right;\">\n",
       "      <th></th>\n",
       "      <th>Prop_addr</th>\n",
       "      <th>Grantee</th>\n",
       "      <th>Grantor</th>\n",
       "      <th>Sale_price</th>\n",
       "      <th>predicted_sale_price</th>\n",
       "      <th>Sfla</th>\n",
       "      <th>TotalAsmt</th>\n",
       "      <th>Parcel_Status</th>\n",
       "      <th>Acres</th>\n",
       "    </tr>\n",
       "  </thead>\n",
       "  <tbody>\n",
       "    <tr>\n",
       "      <th>241509</th>\n",
       "      <td>1730 FOREST GLEN RD</td>\n",
       "      <td>LIBERTY HOMES INC</td>\n",
       "      <td>JONES FREDERICK</td>\n",
       "      <td>40000.0</td>\n",
       "      <td>234557.673982</td>\n",
       "      <td>2234.0</td>\n",
       "      <td>284400.0</td>\n",
       "      <td>A</td>\n",
       "      <td>NaN</td>\n",
       "    </tr>\n",
       "    <tr>\n",
       "      <th>250663</th>\n",
       "      <td>1605 LITTLETON BLVD</td>\n",
       "      <td>THAWRANI MEETA &amp; SUNIL</td>\n",
       "      <td>M &amp; T BANK</td>\n",
       "      <td>52500.0</td>\n",
       "      <td>287581.228009</td>\n",
       "      <td>2800.0</td>\n",
       "      <td>253600.0</td>\n",
       "      <td>A</td>\n",
       "      <td>NaN</td>\n",
       "    </tr>\n",
       "  </tbody>\n",
       "</table>\n",
       "</div>"
      ],
      "text/plain": [
       "                  Prop_addr                 Grantee          Grantor  \\\n",
       "241509  1730 FOREST GLEN RD       LIBERTY HOMES INC  JONES FREDERICK   \n",
       "250663  1605 LITTLETON BLVD  THAWRANI MEETA & SUNIL       M & T BANK   \n",
       "\n",
       "        Sale_price  predicted_sale_price    Sfla  TotalAsmt Parcel_Status  \\\n",
       "241509     40000.0         234557.673982  2234.0   284400.0             A   \n",
       "250663     52500.0         287581.228009  2800.0   253600.0             A   \n",
       "\n",
       "        Acres  \n",
       "241509    NaN  \n",
       "250663    NaN  "
      ]
     },
     "execution_count": 33,
     "metadata": {},
     "output_type": "execute_result"
    }
   ],
   "source": [
    "# Big houses selling below the estimate now seems to be the issue\n",
    "zip_df_2015[zip_df_2015['error_in_prediction'] > 150000][['Prop_addr','Grantee','Grantor',\\\n",
    "                                                          'Sale_price','predicted_sale_price',\\\n",
    "                                                          'Sfla','TotalAsmt','Parcel_Status','Acres']]"
   ]
  },
  {
   "cell_type": "code",
   "execution_count": 34,
   "metadata": {},
   "outputs": [
    {
     "data": {
      "text/html": [
       "<div>\n",
       "<style scoped>\n",
       "    .dataframe tbody tr th:only-of-type {\n",
       "        vertical-align: middle;\n",
       "    }\n",
       "\n",
       "    .dataframe tbody tr th {\n",
       "        vertical-align: top;\n",
       "    }\n",
       "\n",
       "    .dataframe thead th {\n",
       "        text-align: right;\n",
       "    }\n",
       "</style>\n",
       "<table border=\"1\" class=\"dataframe\">\n",
       "  <thead>\n",
       "    <tr style=\"text-align: right;\">\n",
       "      <th></th>\n",
       "      <th>Prop_addr</th>\n",
       "      <th>Grantee</th>\n",
       "      <th>Grantor</th>\n",
       "      <th>Sale_price</th>\n",
       "      <th>predicted_sale_price</th>\n",
       "      <th>Sfla</th>\n",
       "      <th>TotalAsmt</th>\n",
       "      <th>Parcel_Status</th>\n",
       "      <th>Acres</th>\n",
       "    </tr>\n",
       "  </thead>\n",
       "  <tbody>\n",
       "    <tr>\n",
       "      <th>163469</th>\n",
       "      <td>4908 BANGOR CT</td>\n",
       "      <td>HOLLOWAY BRITNEY</td>\n",
       "      <td>MATSUDA YUI &amp; SAUL ARNOLDO CORNEJO</td>\n",
       "      <td>135000.0</td>\n",
       "      <td>134318.799763</td>\n",
       "      <td>1164.0</td>\n",
       "      <td>201200.0</td>\n",
       "      <td>A</td>\n",
       "      <td>NaN</td>\n",
       "    </tr>\n",
       "    <tr>\n",
       "      <th>168174</th>\n",
       "      <td>4913 CAVAN GREEN CT</td>\n",
       "      <td>RUTHERFORD WENDY L</td>\n",
       "      <td>BLAKE WAYNE C &amp; ALAN PURYEAR</td>\n",
       "      <td>115000.0</td>\n",
       "      <td>115957.286355</td>\n",
       "      <td>968.0</td>\n",
       "      <td>137900.0</td>\n",
       "      <td>A</td>\n",
       "      <td>NaN</td>\n",
       "    </tr>\n",
       "    <tr>\n",
       "      <th>179630</th>\n",
       "      <td>5502 MILLSTREAM LN</td>\n",
       "      <td>GOEL VAKUL &amp; SHIVI</td>\n",
       "      <td>SAIDI MOHAMMAD S &amp; FARIMAH M ROFIEI</td>\n",
       "      <td>160000.0</td>\n",
       "      <td>160174.808440</td>\n",
       "      <td>1440.0</td>\n",
       "      <td>180300.0</td>\n",
       "      <td>A</td>\n",
       "      <td>NaN</td>\n",
       "    </tr>\n",
       "    <tr>\n",
       "      <th>183575</th>\n",
       "      <td>8629 MILLSTREAM DR</td>\n",
       "      <td>GOLDENSON DANA J</td>\n",
       "      <td>MCKENZIE ROBIN E</td>\n",
       "      <td>159900.0</td>\n",
       "      <td>160174.808440</td>\n",
       "      <td>1440.0</td>\n",
       "      <td>177500.0</td>\n",
       "      <td>A</td>\n",
       "      <td>NaN</td>\n",
       "    </tr>\n",
       "    <tr>\n",
       "      <th>190850</th>\n",
       "      <td>9213 SILVERBUSH DR</td>\n",
       "      <td>GOPALAN VENUGOPAL B</td>\n",
       "      <td>MONACO JOSEPH A &amp; CHERYL</td>\n",
       "      <td>159950.0</td>\n",
       "      <td>160174.808440</td>\n",
       "      <td>1440.0</td>\n",
       "      <td>186900.0</td>\n",
       "      <td>A</td>\n",
       "      <td>NaN</td>\n",
       "    </tr>\n",
       "    <tr>\n",
       "      <th>195937</th>\n",
       "      <td>9002 SILVERBUSH DR</td>\n",
       "      <td>ELLIS JAMES W</td>\n",
       "      <td>EVANS AMY M</td>\n",
       "      <td>155000.0</td>\n",
       "      <td>154179.212225</td>\n",
       "      <td>1376.0</td>\n",
       "      <td>179900.0</td>\n",
       "      <td>A</td>\n",
       "      <td>NaN</td>\n",
       "    </tr>\n",
       "    <tr>\n",
       "      <th>210907</th>\n",
       "      <td>8413 BROADWAY AVE</td>\n",
       "      <td>CANARY DONALD H &amp; ROBIN L</td>\n",
       "      <td>MENDEZ MICHAEL T</td>\n",
       "      <td>168175.0</td>\n",
       "      <td>167856.666091</td>\n",
       "      <td>1522.0</td>\n",
       "      <td>176600.0</td>\n",
       "      <td>A</td>\n",
       "      <td>NaN</td>\n",
       "    </tr>\n",
       "    <tr>\n",
       "      <th>221630</th>\n",
       "      <td>2918 PUTNEY RD</td>\n",
       "      <td>REINHARD EMMA K</td>\n",
       "      <td>PUTNEY LLC</td>\n",
       "      <td>173000.0</td>\n",
       "      <td>172915.450397</td>\n",
       "      <td>1576.0</td>\n",
       "      <td>201500.0</td>\n",
       "      <td>A</td>\n",
       "      <td>NaN</td>\n",
       "    </tr>\n",
       "    <tr>\n",
       "      <th>222413</th>\n",
       "      <td>2306 POATES DR</td>\n",
       "      <td>PULLIN ROBERT E &amp; KAITLYN G A</td>\n",
       "      <td>HALL SHARON L &amp; G S BURGE &amp; JOHN D</td>\n",
       "      <td>169500.0</td>\n",
       "      <td>168793.477999</td>\n",
       "      <td>1532.0</td>\n",
       "      <td>205500.0</td>\n",
       "      <td>A</td>\n",
       "      <td>NaN</td>\n",
       "    </tr>\n",
       "    <tr>\n",
       "      <th>229641</th>\n",
       "      <td>7702 HERMITAGE RD</td>\n",
       "      <td>METZ MICHAEL D H</td>\n",
       "      <td>PROCTOR JESSE R</td>\n",
       "      <td>99900.0</td>\n",
       "      <td>100218.846290</td>\n",
       "      <td>800.0</td>\n",
       "      <td>124400.0</td>\n",
       "      <td>A</td>\n",
       "      <td>NaN</td>\n",
       "    </tr>\n",
       "    <tr>\n",
       "      <th>236266</th>\n",
       "      <td>5706 EDGEMORE ST</td>\n",
       "      <td>PANCHISION JONATHAN M &amp; ERIN M</td>\n",
       "      <td>SCHUELER MICHAEL G &amp; K D</td>\n",
       "      <td>130000.0</td>\n",
       "      <td>129822.102602</td>\n",
       "      <td>1116.0</td>\n",
       "      <td>170900.0</td>\n",
       "      <td>A</td>\n",
       "      <td>NaN</td>\n",
       "    </tr>\n",
       "    <tr>\n",
       "      <th>237267</th>\n",
       "      <td>2307 LAFAYETTE AVE</td>\n",
       "      <td>RICHE MICHELLE L</td>\n",
       "      <td>MARTIN RUSSELL H</td>\n",
       "      <td>239499.0</td>\n",
       "      <td>238773.327571</td>\n",
       "      <td>2279.0</td>\n",
       "      <td>257600.0</td>\n",
       "      <td>A</td>\n",
       "      <td>0.2296</td>\n",
       "    </tr>\n",
       "    <tr>\n",
       "      <th>239946</th>\n",
       "      <td>2203 GINTER ST</td>\n",
       "      <td>GRANT ELIZABETH SCOTT</td>\n",
       "      <td>HART SUSAN M</td>\n",
       "      <td>104950.0</td>\n",
       "      <td>104902.905833</td>\n",
       "      <td>850.0</td>\n",
       "      <td>136200.0</td>\n",
       "      <td>A</td>\n",
       "      <td>NaN</td>\n",
       "    </tr>\n",
       "    <tr>\n",
       "      <th>240071</th>\n",
       "      <td>2308 NELSON ST</td>\n",
       "      <td>TERRY HEATHER N</td>\n",
       "      <td>HARRIS SANDRA T</td>\n",
       "      <td>130000.0</td>\n",
       "      <td>129260.015457</td>\n",
       "      <td>1110.0</td>\n",
       "      <td>159100.0</td>\n",
       "      <td>A</td>\n",
       "      <td>NaN</td>\n",
       "    </tr>\n",
       "  </tbody>\n",
       "</table>\n",
       "</div>"
      ],
      "text/plain": [
       "                  Prop_addr                         Grantee  \\\n",
       "163469       4908 BANGOR CT                HOLLOWAY BRITNEY   \n",
       "168174  4913 CAVAN GREEN CT              RUTHERFORD WENDY L   \n",
       "179630   5502 MILLSTREAM LN              GOEL VAKUL & SHIVI   \n",
       "183575   8629 MILLSTREAM DR                GOLDENSON DANA J   \n",
       "190850   9213 SILVERBUSH DR             GOPALAN VENUGOPAL B   \n",
       "195937   9002 SILVERBUSH DR                   ELLIS JAMES W   \n",
       "210907    8413 BROADWAY AVE       CANARY DONALD H & ROBIN L   \n",
       "221630       2918 PUTNEY RD                 REINHARD EMMA K   \n",
       "222413       2306 POATES DR   PULLIN ROBERT E & KAITLYN G A   \n",
       "229641    7702 HERMITAGE RD                METZ MICHAEL D H   \n",
       "236266     5706 EDGEMORE ST  PANCHISION JONATHAN M & ERIN M   \n",
       "237267   2307 LAFAYETTE AVE                RICHE MICHELLE L   \n",
       "239946       2203 GINTER ST           GRANT ELIZABETH SCOTT   \n",
       "240071       2308 NELSON ST                 TERRY HEATHER N   \n",
       "\n",
       "                                    Grantor  Sale_price  predicted_sale_price  \\\n",
       "163469   MATSUDA YUI & SAUL ARNOLDO CORNEJO    135000.0         134318.799763   \n",
       "168174         BLAKE WAYNE C & ALAN PURYEAR    115000.0         115957.286355   \n",
       "179630  SAIDI MOHAMMAD S & FARIMAH M ROFIEI    160000.0         160174.808440   \n",
       "183575                     MCKENZIE ROBIN E    159900.0         160174.808440   \n",
       "190850             MONACO JOSEPH A & CHERYL    159950.0         160174.808440   \n",
       "195937                          EVANS AMY M    155000.0         154179.212225   \n",
       "210907                     MENDEZ MICHAEL T    168175.0         167856.666091   \n",
       "221630                           PUTNEY LLC    173000.0         172915.450397   \n",
       "222413   HALL SHARON L & G S BURGE & JOHN D    169500.0         168793.477999   \n",
       "229641                      PROCTOR JESSE R     99900.0         100218.846290   \n",
       "236266             SCHUELER MICHAEL G & K D    130000.0         129822.102602   \n",
       "237267                     MARTIN RUSSELL H    239499.0         238773.327571   \n",
       "239946                         HART SUSAN M    104950.0         104902.905833   \n",
       "240071                      HARRIS SANDRA T    130000.0         129260.015457   \n",
       "\n",
       "          Sfla  TotalAsmt Parcel_Status   Acres  \n",
       "163469  1164.0   201200.0             A     NaN  \n",
       "168174   968.0   137900.0             A     NaN  \n",
       "179630  1440.0   180300.0             A     NaN  \n",
       "183575  1440.0   177500.0             A     NaN  \n",
       "190850  1440.0   186900.0             A     NaN  \n",
       "195937  1376.0   179900.0             A     NaN  \n",
       "210907  1522.0   176600.0             A     NaN  \n",
       "221630  1576.0   201500.0             A     NaN  \n",
       "222413  1532.0   205500.0             A     NaN  \n",
       "229641   800.0   124400.0             A     NaN  \n",
       "236266  1116.0   170900.0             A     NaN  \n",
       "237267  2279.0   257600.0             A  0.2296  \n",
       "239946   850.0   136200.0             A     NaN  \n",
       "240071  1110.0   159100.0             A     NaN  "
      ]
     },
     "execution_count": 34,
     "metadata": {},
     "output_type": "execute_result"
    }
   ],
   "source": [
    "# Did we predict any sales almost exactly right?\n",
    "zip_df_2015[zip_df_2015['error_in_prediction'] < 1000][['Prop_addr','Grantee','Grantor',\\\n",
    "                                                          'Sale_price','predicted_sale_price',\\\n",
    "                                                          'Sfla','TotalAsmt','Parcel_Status','Acres']]"
   ]
  },
  {
   "cell_type": "code",
   "execution_count": null,
   "metadata": {},
   "outputs": [],
   "source": []
  }
 ],
 "metadata": {
  "kernelspec": {
   "display_name": "Python 3",
   "language": "python",
   "name": "python3"
  },
  "language_info": {
   "codemirror_mode": {
    "name": "ipython",
    "version": 3
   },
   "file_extension": ".py",
   "mimetype": "text/x-python",
   "name": "python",
   "nbconvert_exporter": "python",
   "pygments_lexer": "ipython3",
   "version": "3.7.3"
  }
 },
 "nbformat": 4,
 "nbformat_minor": 2
}
