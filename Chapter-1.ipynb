{
 "cells": [
  {
   "cell_type": "markdown",
   "metadata": {},
   "source": [
    "# Elements of Statistical Learning"
   ]
  },
  {
   "cell_type": "markdown",
   "metadata": {},
   "source": [
    "## Chapter 1 - Introduction\n",
    "### This book is about learning from data.\n",
    "* In a typical scenario we have:\n",
    "    * An _outcome_ we wish to predict based on a set of _features_.\n",
    "    * A _training set_ of data which we use to build a _prediction model_ or _learner_.\n",
    "    * An _input_ data point that was not a part of the initial training set.\n",
    "    * A good learner is one that accurately predicts outcomes even when given previously unseen input.\n",
    "    \n",
    "### Learning from data can be broken down into two categories.\n",
    "\n",
    "* _Supervised_ learning\n",
    "    * The training data contains the outcome variable to guide the learning process\n",
    "    * Classification, regression, predictive models\n",
    "    * e.g. predict whether a patient lives or dies, a test case passes or fails, the price of a stock in the future\n",
    "    \n",
    "* _Unsupervised_ learning\n",
    "    * The training data is not labeled contains only the features and have no measurements of the outcome\n",
    "    * Goal is pattern/structure recognition - \"describe how the data are organized or clustered\"\n",
    "    * Clustering, dimensionality reduction\n",
    "    * e.g. are there relationships or associations between data that are not obvious, targeted marketing, customer recomendation, visualization.\n",
    "    \n",
    "The focus of this book is on supervised learning.\n",
    "    \n",
    "### There are different types of supervised learning problems.\n",
    "\n",
    "| Name | Description | Example | \n",
    "| --- | --- | --- |\n",
    "| Classification | Outcome is a label of each input with the appropriate marker | Spam filter, hand-written digit recognition | \n",
    "| Regression | Outcome is quantitative score | Predict the log of an antigen, test case runtime |"
   ]
  }
 ],
 "metadata": {
  "kernelspec": {
   "display_name": "Python 3",
   "language": "python",
   "name": "python3"
  },
  "language_info": {
   "codemirror_mode": {
    "name": "ipython",
    "version": 3
   },
   "file_extension": ".py",
   "mimetype": "text/x-python",
   "name": "python",
   "nbconvert_exporter": "python",
   "pygments_lexer": "ipython3",
   "version": "3.7.3"
  }
 },
 "nbformat": 4,
 "nbformat_minor": 2
}
